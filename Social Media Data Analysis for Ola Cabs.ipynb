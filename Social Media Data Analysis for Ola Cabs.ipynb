{
 "cells": [
  {
   "cell_type": "code",
   "execution_count": 220,
   "id": "ca824b51-b730-4a3d-b3a5-877ace0172d3",
   "metadata": {},
   "outputs": [
    {
     "name": "stdout",
     "output_type": "stream",
     "text": [
      "Total number of posts in the JSON file:  3244\n"
     ]
    }
   ],
   "source": [
    "import json\n",
    "import pandas as pd\n",
    "\n",
    "\n",
    "file_path = \"Ola.json\"\n",
    "with open(file_path, \"r\", encoding=\"utf-8\") as json_file:\n",
    "    data = json.load(json_file)\n",
    "\n",
    "df = pd.DataFrame(data)\n",
    "\n",
    "total_posts = len(df)\n",
    "\n",
    "print(\"Total number of posts in the JSON file: \", total_posts)"
   ]
  },
  {
   "cell_type": "markdown",
   "id": "5188c0fc-f709-439d-96f5-c5e6b341d4c3",
   "metadata": {},
   "source": [
    "Data Cleaning and Preparation\n",
    "1. Remove Duplicates.\n",
    "2. Counted the number of data and converted the null in  likes, views, share to 0,\n",
    "3. Convert the datetime column to a standard datetime format."
   ]
  },
  {
   "cell_type": "code",
   "execution_count": 222,
   "id": "60bc6b11-9dcf-42c3-85ca-cb3919f5bf43",
   "metadata": {},
   "outputs": [
    {
     "name": "stdout",
     "output_type": "stream",
     "text": [
      "Total number of posts in the JSON file after data cleaning:  2536\n"
     ]
    }
   ],
   "source": [
    "df = df.drop_duplicates(subset='tweet_id')\n",
    "df.fillna(0, inplace=True) \n",
    "df['datetime'] = pd.to_datetime(df['datetime'], format='%d-%m-%Y %H:%M:%S')\n",
    "total_posts = len(df)\n",
    "print(\"Total number of posts in the JSON file after data cleaning: \", total_posts)"
   ]
  },
  {
   "cell_type": "markdown",
   "id": "7400bacf-3e04-4818-8a73-0eed689809d7",
   "metadata": {},
   "source": [
    "We have removed all the tweet the did not include user_mentions olacabs or ola_supports"
   ]
  },
  {
   "cell_type": "code",
   "execution_count": 224,
   "id": "f16828fb-fcae-4c4c-969e-5d0aeacf4ea2",
   "metadata": {},
   "outputs": [
    {
     "name": "stdout",
     "output_type": "stream",
     "text": [
      "Total number of posts in the JSON file after data cleaning:  1156\n"
     ]
    }
   ],
   "source": [
    "required_mentions = ['Olacabs', 'ola_supports']\n",
    "\n",
    "def has_required_mentions(user_mentions):\n",
    "    if user_mentions is None:\n",
    "        return False\n",
    "    return any(mention['screen_name'] in required_mentions for mention in user_mentions)\n",
    "\n",
    "df = df[df['user_mentions'].apply(has_required_mentions)]\n",
    "total_posts = len(df)\n",
    "print(\"Total number of posts in the JSON file after data cleaning: \", total_posts)"
   ]
  },
  {
   "cell_type": "code",
   "execution_count": 226,
   "id": "4863e95b-50a3-45fe-986e-912c43c0e4c5",
   "metadata": {},
   "outputs": [
    {
     "name": "stdout",
     "output_type": "stream",
     "text": [
      "              tweet_id                                            content  \\\n",
      "0  1871889326575136870  Yet again fucking driver accepted the booking ...   \n",
      "1  1871076431754580058  More than 1 hour and the food is still not her...   \n",
      "2  1871827021585928588  No one is constantly as motherfucking assholes...   \n",
      "4  1863291107477721485  , Are you guys even concerned about what type ...   \n",
      "5  1869240115614327032              Stop hiring goons to drive your cabs!   \n",
      "\n",
      "             datetime  likes  shares  views   source  isBlue  followers  \\\n",
      "0 2024-12-25 12:02:48      0       0   23.0  TWITTER   False         93   \n",
      "1 2024-12-23 06:12:38      2       1  107.0  TWITTER   False         72   \n",
      "2 2024-12-25 07:55:13      0       0   15.0  TWITTER   False         93   \n",
      "4 2024-12-01 18:36:32      0       0   32.0  TWITTER   False         47   \n",
      "5 2024-12-18 04:35:47      0       0   51.0  TWITTER   False        188   \n",
      "\n",
      "     hashtags location                                      user_mentions  \\\n",
      "0           0                 [{'name': 'Ola', 'screen_name': 'Olacabs'}]   \n",
      "1  [olafoods]           [{'name': 'Ola', 'screen_name': 'Olacabs'}, {'...   \n",
      "2           0                 [{'name': 'Ola', 'screen_name': 'Olacabs'}]   \n",
      "4           0           [{'name': 'Ola', 'screen_name': 'ola_zkzkvm'},...   \n",
      "5           0           [{'name': 'Ola', 'screen_name': 'Olacabs'}, {'...   \n",
      "\n",
      "                                               media        username  \\\n",
      "0  [https://pbs.twimg.com/media/GfpJadUXkAAqoVS.jpg]       desire24_   \n",
      "1  [https://pbs.twimg.com/media/GfdmGSrWUAA5ZTP.jpg]  Karan0072Karan   \n",
      "2  [https://pbs.twimg.com/media/GfoQv5zXIAAcjA_.jpg]       desire24_   \n",
      "4  [https://pbs.twimg.com/media/Gdu9YbvXkAApPHn.jpg]         DWasish   \n",
      "5  [https://pbs.twimg.com/media/GfDf-T_aEAIvHl5.jpg]     vicked_ashi   \n",
      "\n",
      "                                                 url  \\\n",
      "0  https://x.com/desire24_/status/187188932657513...   \n",
      "1  https://x.com/Karan0072Karan/status/1871076431...   \n",
      "2  https://x.com/desire24_/status/187182702158592...   \n",
      "4   https://x.com/DWasish/status/1863291107477721485   \n",
      "5  https://x.com/vicked_ashi/status/1869240115614...   \n",
      "\n",
      "                                            comments  \n",
      "0                                                 []  \n",
      "1  [{'content': 'Customer care services are alway...  \n",
      "2                                                 []  \n",
      "4  [{'content': 'This type of people going forwar...  \n",
      "5  [{'content': 'Hi Ashish, we want to deep dive ...  \n"
     ]
    }
   ],
   "source": [
    "print(df.head(5))"
   ]
  },
  {
   "cell_type": "markdown",
   "id": "c35e1246-8bdf-48ca-91f2-f3ad2cb35753",
   "metadata": {},
   "source": [
    " Descriptive Analysis:\n",
    "1. Calculate basic statistics (mean, median, mode) for the engagement metrics (likes,\n",
    "   shares, views).\n",
    "2. Identify the top 5 posts with the highest engagement (likes + shares + comments).\n",
    "3. Count the number of posts with media attachments."
   ]
  },
  {
   "cell_type": "code",
   "execution_count": 228,
   "id": "a7ddfea0-4e29-4c5f-8339-abb22bfe6f81",
   "metadata": {},
   "outputs": [
    {
     "name": "stdout",
     "output_type": "stream",
     "text": [
      "Mean of Engagement Metrics:\n",
      "likes       38.869377\n",
      "shares       5.523356\n",
      "views     1167.459343\n",
      "dtype: float64\n",
      "\n",
      "Median of Engagement Metrics:\n",
      "likes      0.0\n",
      "shares     0.0\n",
      "views     18.0\n",
      "dtype: float64\n",
      "\n",
      "Mode of Engagement Metrics:\n",
      "likes     0.0\n",
      "shares    0.0\n",
      "views     0.0\n",
      "Name: 0, dtype: float64\n"
     ]
    }
   ],
   "source": [
    "engagement = df[['likes', 'shares', 'views']]\n",
    "\n",
    "mean = engagement.mean()\n",
    "median = engagement.median()\n",
    "mode = engagement.mode().iloc[0]  \n",
    "\n",
    "print(\"Mean of Engagement Metrics:\")\n",
    "print(mean)\n",
    "print(\"\\nMedian of Engagement Metrics:\")\n",
    "print(median)\n",
    "print(\"\\nMode of Engagement Metrics:\")\n",
    "print(mode)"
   ]
  },
  {
   "cell_type": "code",
   "execution_count": 230,
   "id": "baa91406-0877-418d-af18-5592be57f71d",
   "metadata": {},
   "outputs": [
    {
     "name": "stdout",
     "output_type": "stream",
     "text": [
      "Top 1 Post:\n",
      "Tweet ID: 1649137934841544704\n",
      "Likes: 20725 | Shares: 2706 | Comments: 64\n",
      "Total Engagement: 23495\n",
      "--------------------------------------------------\n",
      "Top 2 Post:\n",
      "Tweet ID: 1758125175714021772\n",
      "Likes: 2788 | Shares: 17964 | Comments: 2\n",
      "Total Engagement: 20754\n",
      "--------------------------------------------------\n",
      "Top 3 Post:\n",
      "Tweet ID: 1842896103618048240\n",
      "Likes: 18664 | Shares: 1823 | Comments: 61\n",
      "Total Engagement: 20548\n",
      "--------------------------------------------------\n",
      "Top 4 Post:\n",
      "Tweet ID: 1329638961308962816\n",
      "Likes: 17547 | Shares: 1069 | Comments: 66\n",
      "Total Engagement: 18682\n",
      "--------------------------------------------------\n",
      "Top 5 Post:\n",
      "Tweet ID: 1842882565209723381\n",
      "Likes: 13809 | Shares: 2881 | Comments: 77\n",
      "Total Engagement: 16767\n",
      "--------------------------------------------------\n"
     ]
    }
   ],
   "source": [
    "for post in data:\n",
    "    post['engagement'] = post['likes'] + post['shares'] + len(post['comments'])\n",
    "\n",
    "sorted_posts = sorted(data, key=lambda x: x['engagement'], reverse=True)\n",
    "\n",
    "top_5_posts = sorted_posts[:5]\n",
    "\n",
    "for idx, post in enumerate(top_5_posts, 1):\n",
    "    print(f\"Top {idx} Post:\")\n",
    "    print(f\"Tweet ID: {post['tweet_id']}\")\n",
    "    print(f\"Likes: {post['likes']} | Shares: {post['shares']} | Comments: {len(post['comments'])}\")\n",
    "    print(f\"Total Engagement: {post['engagement']}\")\n",
    "    print(\"-\" * 50)\n"
   ]
  },
  {
   "cell_type": "markdown",
   "id": "4054b98d-722a-4485-8126-4eb4f901da7b",
   "metadata": {},
   "source": [
    " Checks if media field exists and is not empty"
   ]
  },
  {
   "cell_type": "code",
   "execution_count": 232,
   "id": "f721d6a7-06c1-41c6-a9ec-5cb8d353ee3e",
   "metadata": {},
   "outputs": [
    {
     "name": "stdout",
     "output_type": "stream",
     "text": [
      "Number of posts with media attachments: 1037\n"
     ]
    }
   ],
   "source": [
    "posts_media = sum(1 for tweet in data if tweet.get('media'))  \n",
    "print(f\"Number of posts with media attachments: {posts_media}\")"
   ]
  },
  {
   "cell_type": "markdown",
   "id": "be852b92-3a69-4e87-9cf1-ae63dae6dac3",
   "metadata": {},
   "source": [
    " Sentiment Analysis:\n",
    "1. Perform sentiment analysis on the post content using a sentiment analysis library\n",
    "   (e.g., TextBlob or VADER).\n",
    "2. Categorize posts into Positive, Neutral, or Negative sentiment.\n",
    "3. Calculate the percentage of posts in each sentiment category."
   ]
  },
  {
   "cell_type": "markdown",
   "id": "ef75ab9d-f8db-4e53-8e4f-182193cbf180",
   "metadata": {},
   "source": [
    "install pip install textblob"
   ]
  },
  {
   "cell_type": "markdown",
   "id": "5adf1d57-098d-48d3-a230-57782258c2d3",
   "metadata": {},
   "source": [
    "We are performing Sentiment Analysis: Evaluates the sentiment (positive, neutral, or negative) of a piece of text.\n",
    "using textblob"
   ]
  },
  {
   "cell_type": "code",
   "execution_count": 234,
   "id": "84cfcb2a-85c5-4125-aca5-f5023ec6546a",
   "metadata": {},
   "outputs": [
    {
     "name": "stdout",
     "output_type": "stream",
     "text": [
      "Sentiment Analysis Results:\n",
      "sentiment_category\n",
      "Neutral     34.861592\n",
      "Positive    34.515571\n",
      "Negative    30.622837\n",
      "Name: proportion, dtype: float64\n"
     ]
    }
   ],
   "source": [
    "import pandas as pd\n",
    "from textblob import TextBlob\n",
    "\n",
    "def analyze_sentiment(content):\n",
    "    blob = TextBlob(content)\n",
    "    return blob.sentiment.polarity  \n",
    "\n",
    "df['sentiment_polarity'] = df['content'].apply(analyze_sentiment)\n",
    "\n",
    "def classify_sentiment(polarity):\n",
    "    if polarity > 0:\n",
    "        return \"Positive\"\n",
    "    elif polarity < 0:\n",
    "        return \"Negative\"\n",
    "    else:\n",
    "        return \"Neutral\"\n",
    "\n",
    "df['sentiment_category'] = df['sentiment_polarity'].apply(classify_sentiment)\n",
    "\n",
    "sentiment_counts = df['sentiment_category'].value_counts(normalize=True) * 100\n",
    "\n",
    "print(\"Sentiment Analysis Results:\")\n",
    "print(sentiment_counts)"
   ]
  },
  {
   "cell_type": "code",
   "execution_count": 236,
   "id": "e374e066-0d23-4ff0-a3cb-c1b6121ba4a2",
   "metadata": {},
   "outputs": [
    {
     "name": "stdout",
     "output_type": "stream",
     "text": [
      "  sentiment_category  sentiment_polarity\n",
      "0           Negative              -0.600\n",
      "1           Positive               0.250\n",
      "2           Negative              -0.375\n",
      "4           Positive               0.100\n",
      "5            Neutral               0.000\n",
      "6           Negative              -0.500\n"
     ]
    }
   ],
   "source": [
    "print(df[['sentiment_category', 'sentiment_polarity']].head(6))"
   ]
  },
  {
   "cell_type": "markdown",
   "id": "66303745-7e1f-4a60-b283-24b5ea91793e",
   "metadata": {},
   "source": [
    "install pip install vaderSentiment"
   ]
  },
  {
   "cell_type": "markdown",
   "id": "afaf5b67-45fd-4833-a019-4d4b95954921",
   "metadata": {},
   "source": [
    "We are performing Sentiment Analysis using VADER"
   ]
  },
  {
   "cell_type": "code",
   "execution_count": 238,
   "id": "bdab57a5-76e6-40eb-89f9-0779f4b8302e",
   "metadata": {},
   "outputs": [
    {
     "name": "stdout",
     "output_type": "stream",
     "text": [
      "Sentiment Analysis Results:\n",
      "sentiment_category\n",
      "Negative    43.079585\n",
      "Positive    37.370242\n",
      "Neutral     19.550173\n",
      "Name: proportion, dtype: float64\n"
     ]
    }
   ],
   "source": [
    "import pandas as pd\n",
    "from vaderSentiment.vaderSentiment import SentimentIntensityAnalyzer\n",
    "\n",
    "analyzer = SentimentIntensityAnalyzer()\n",
    "\n",
    "def analyze_sentiment(content):\n",
    "    score = analyzer.polarity_scores(content)\n",
    "    return score['compound'] \n",
    "    \n",
    "df['sentiment_polarity'] = df['content'].apply(analyze_sentiment)\n",
    "\n",
    "def classify_sentiment(polarity):\n",
    "    if polarity >= 0.05:\n",
    "        return \"Positive\"\n",
    "    elif polarity <= -0.05:\n",
    "        return \"Negative\"\n",
    "    else:\n",
    "        return \"Neutral\"\n",
    "\n",
    "df['sentiment_category'] = df['sentiment_polarity'].apply(classify_sentiment)\n",
    "sentiment_counts = df['sentiment_category'].value_counts(normalize=True) * 100\n",
    "print(\"Sentiment Analysis Results:\")\n",
    "print(sentiment_counts)\n"
   ]
  },
  {
   "cell_type": "code",
   "execution_count": 240,
   "id": "15f67514-164a-4646-9de1-72854c0b6d60",
   "metadata": {},
   "outputs": [
    {
     "name": "stdout",
     "output_type": "stream",
     "text": [
      "  sentiment_category  sentiment_polarity\n",
      "0           Negative             -0.7115\n",
      "1           Negative             -0.1010\n",
      "2           Negative             -0.9442\n",
      "4            Neutral              0.0000\n",
      "5           Negative             -0.3595\n",
      "6           Negative             -0.7579\n"
     ]
    }
   ],
   "source": [
    "print(df[['sentiment_category', 'sentiment_polarity']].head(6))"
   ]
  },
  {
   "cell_type": "markdown",
   "id": "87c19158-f840-44b9-8ff3-6a906be8d050",
   "metadata": {},
   "source": [
    "By analysing both textblob and VADER we can conclude that it gives nearly approx result for the sentiment analysis"
   ]
  },
  {
   "cell_type": "markdown",
   "id": "04b6e6f7-ff17-4c17-8770-6de1b8de0a00",
   "metadata": {},
   "source": [
    "  Customer Complaints:\n",
    " 1. Extract posts mentioning complaints about drivers, booking cancellations, or customer\n",
    "     service issues.\n",
    " 2. Categorize these posts based on the type of complaint.\n",
    " 3. Visualize the distribution of complaint categories using a bar chart."
   ]
  },
  {
   "cell_type": "code",
   "execution_count": 242,
   "id": "f53a5ce7-6b82-4665-88c1-2cdf062d4aed",
   "metadata": {},
   "outputs": [
    {
     "data": {
      "image/png": "[encoded data removed]",
      "text/plain": [
       "<Figure size 800x600 with 1 Axes>"
      ]
     },
     "metadata": {},
     "output_type": "display_data"
    }
   ],
   "source": [
    "import pandas as pd\n",
    "import seaborn as sns\n",
    "import matplotlib.pyplot as plt\n",
    "\n",
    "complaints_keywords = {\n",
    "    'driver': [\n",
    "        'driver', 'poor driver', 'rude driver', 'late driver', 'waste', 'bad',\n",
    "        'rude', 'unprofessional', 'aggressive', 'reckless', 'inappropriate', \n",
    "        'unsafe', 'late', 'cancel', 'refuse', 'reject', 'asshole', 'moron', \n",
    "        'idiot', 'disrespectful', 'careless', 'disorganized', 'unreliable', \n",
    "        'horrible driver', 'incompetent driver', 'unqualified', 'terrible driver',\n",
    "        'scammer', 'liar', 'disappointing driver', 'annoying driver', 'non-compliant',\n",
    "        'drunken driver', 'violent driver', 'reckless driver'\n",
    "    ],\n",
    "    'cancellation': [\n",
    "        'booking cancelled', 'cancellation', 'cancelled booking', 'cancel', \n",
    "        'cancelled', 'cancelling', 'cancellation', 'reject', 'rejected', \n",
    "        'rejecting', 'rejection', 'refuse', 'refused', 'refusing', 'refusal',\n",
    "        \"didn't come\", \"not show up\", \"no show\", \"turned down\", \"declined\", \n",
    "        'booking not confirmed', 'no confirmation', 'change of plans', 'unresponsive', \n",
    "        'denied booking', 'cancellation policy', 'cancelled trip', 'trip not available',\n",
    "        'booking failed', 'cancellation charge', 'refund issue', 'cancellation fee',\n",
    "        'unavailable', 'not confirmed', 'cancelled order', 'booking unavailable'\n",
    "    ],\n",
    "    'customer_service': [\n",
    "        'customer service', 'bad service', 'service issues', 'issue', 'customer service', \n",
    "        'customer support', 'help center', 'support team', 'care', 'unhelpful', 'useless', \n",
    "        'inefficient', 'slow', 'long wait', 'no response', 'no reply', 'ignored', 'rude', \n",
    "        'unprofessional', 'pathetic', 'horrible', 'terrible', 'bad experience', 'poor service', \n",
    "        'didn\\'t help', 'not helpful', 'hangup', 'hang up', 'no assistance', 'unresponsive', \n",
    "        'failed to assist', 'terrible support', 'unavailable support', 'misleading support', \n",
    "        'customer negligence', 'unfriendly', 'uncooperative', 'confusing', 'unavailable agent', \n",
    "        'untrained staff', 'unqualified support', 'miscommunication', 'impatient service', \n",
    "        'lack of follow-up', 'unsatisfactory service', 'no resolution', 'ignored complaint', \n",
    "        'unresolved issue', 'unhelpful staff', 'delayed response', 'dissatisfied with service', \n",
    "        'poor customer experience', 'no solution', 'bad customer experience', 'unresolved case'\n",
    "    ]\n",
    "}\n",
    "def filter_complaints(content, keywords):\n",
    "    complaint_type = []\n",
    "    \n",
    "    # Check for each complaint type\n",
    "    for complaint, terms in keywords.items():\n",
    "        for term in terms:\n",
    "            if term.lower() in content.lower():\n",
    "                complaint_type.append(complaint)\n",
    "                break\n",
    "    return complaint_type if complaint_type else None\n",
    "\n",
    "df['complaints'] = df['content'].apply(lambda x: filter_complaints(x, complaints_keywords))\n",
    "\n",
    "complaint_posts = df[df['complaints'].notnull()]\n",
    "\n",
    "complaint_categories = complaint_posts['complaints'].explode()\n",
    "\n",
    "plt.figure(figsize=(8, 6))\n",
    "ax = sns.countplot(x=complaint_categories)\n",
    "ax.bar_label(ax.containers[0])\n",
    "plt.title('Distribution of Complaint Categories')\n",
    "plt.xlabel('Complaint Type')\n",
    "plt.ylabel('Number of Complaints')\n",
    "plt.show()\n"
   ]
  },
  {
   "cell_type": "markdown",
   "id": "ec653ae4-6547-4f8d-89a0-891c7afe282b",
   "metadata": {},
   "source": [
    "From the bar graph, we can conclude that there are more complaints about driver behavior and customer service.\n",
    "Below we can see that a colunm is add called complaints, categorised into driver, cancellation, coustomer_service."
   ]
  },
  {
   "cell_type": "code",
   "execution_count": 255,
   "id": "de75699b-0efd-469c-a39d-7e301ef56741",
   "metadata": {},
   "outputs": [
    {
     "name": "stdout",
     "output_type": "stream",
     "text": [
      "tweet_id                      object\n",
      "content                       object\n",
      "datetime              datetime64[ns]\n",
      "likes                          int64\n",
      "shares                         int64\n",
      "views                        float64\n",
      "source                        object\n",
      "isBlue                          bool\n",
      "followers                      int64\n",
      "hashtags                      object\n",
      "location                      object\n",
      "user_mentions                 object\n",
      "media                         object\n",
      "username                      object\n",
      "url                           object\n",
      "comments                      object\n",
      "sentiment_polarity           float64\n",
      "sentiment_category            object\n",
      "complaints                    object\n",
      "comments_len                   int64\n",
      "total                          int64\n",
      "dtype: object\n",
      "              tweet_id                                            content  \\\n",
      "0  1871889326575136870  Yet again fucking driver accepted the booking ...   \n",
      "1  1871076431754580058  More than 1 hour and the food is still not her...   \n",
      "2  1871827021585928588  No one is constantly as motherfucking assholes...   \n",
      "4  1863291107477721485  , Are you guys even concerned about what type ...   \n",
      "5  1869240115614327032              Stop hiring goons to drive your cabs!   \n",
      "\n",
      "             datetime  likes  shares  views   source  isBlue  followers  \\\n",
      "0 2024-12-25 12:02:48      0       0   23.0  TWITTER   False         93   \n",
      "1 2024-12-23 06:12:38      2       1  107.0  TWITTER   False         72   \n",
      "2 2024-12-25 07:55:13      0       0   15.0  TWITTER   False         93   \n",
      "4 2024-12-01 18:36:32      0       0   32.0  TWITTER   False         47   \n",
      "5 2024-12-18 04:35:47      0       0   51.0  TWITTER   False        188   \n",
      "\n",
      "     hashtags  ...                                      user_mentions  \\\n",
      "0           0  ...        [{'name': 'Ola', 'screen_name': 'Olacabs'}]   \n",
      "1  [olafoods]  ...  [{'name': 'Ola', 'screen_name': 'Olacabs'}, {'...   \n",
      "2           0  ...        [{'name': 'Ola', 'screen_name': 'Olacabs'}]   \n",
      "4           0  ...  [{'name': 'Ola', 'screen_name': 'ola_zkzkvm'},...   \n",
      "5           0  ...  [{'name': 'Ola', 'screen_name': 'Olacabs'}, {'...   \n",
      "\n",
      "                                               media        username  \\\n",
      "0  [https://pbs.twimg.com/media/GfpJadUXkAAqoVS.jpg]       desire24_   \n",
      "1  [https://pbs.twimg.com/media/GfdmGSrWUAA5ZTP.jpg]  Karan0072Karan   \n",
      "2  [https://pbs.twimg.com/media/GfoQv5zXIAAcjA_.jpg]       desire24_   \n",
      "4  [https://pbs.twimg.com/media/Gdu9YbvXkAApPHn.jpg]         DWasish   \n",
      "5  [https://pbs.twimg.com/media/GfDf-T_aEAIvHl5.jpg]     vicked_ashi   \n",
      "\n",
      "                                                 url  \\\n",
      "0  https://x.com/desire24_/status/187188932657513...   \n",
      "1  https://x.com/Karan0072Karan/status/1871076431...   \n",
      "2  https://x.com/desire24_/status/187182702158592...   \n",
      "4   https://x.com/DWasish/status/1863291107477721485   \n",
      "5  https://x.com/vicked_ashi/status/1869240115614...   \n",
      "\n",
      "                                            comments sentiment_polarity  \\\n",
      "0                                                 []            -0.7115   \n",
      "1  [{'content': 'Customer care services are alway...            -0.1010   \n",
      "2                                                 []            -0.9442   \n",
      "4  [{'content': 'This type of people going forwar...             0.0000   \n",
      "5  [{'content': 'Hi Ashish, we want to deep dive ...            -0.3595   \n",
      "\n",
      "   sentiment_category                  complaints comments_len  total  \n",
      "0            Negative      [driver, cancellation]            0      0  \n",
      "1            Negative  [driver, customer_service]            3      6  \n",
      "2            Negative      [driver, cancellation]            0      0  \n",
      "4             Neutral                    [driver]            1      1  \n",
      "5            Negative                        None            1      1  \n",
      "\n",
      "[5 rows x 21 columns]\n"
     ]
    }
   ],
   "source": [
    "print(df.dtypes)\n",
    "print(df.head(5))"
   ]
  },
  {
   "cell_type": "markdown",
   "id": "5f1aea7b-2b2c-432e-b28e-c2ac105fc9bf",
   "metadata": {},
   "source": [
    "Engagement Analysis:\n",
    "\n",
    "1. Determine the correlation between the number of followers and the engagement\n",
    "   metrics (likes, shares, comments).\n",
    "2. Identify any patterns in engagement based on the source of posts (e.g., Twitter,\n",
    "   Instagram, etc.)."
   ]
  },
  {
   "cell_type": "code",
   "execution_count": 246,
   "id": "8ebd4c0a-f7cc-4105-a41b-810ffae02ece",
   "metadata": {},
   "outputs": [
    {
     "name": "stdout",
     "output_type": "stream",
     "text": [
      "Correlations:\n",
      "              followers     likes    shares  comments_len\n",
      "followers      1.000000  0.075688  0.105585      0.133691\n",
      "likes          0.075688  1.000000  0.814000      0.526112\n",
      "shares         0.105585  0.814000  1.000000      0.609832\n",
      "comments_len   0.133691  0.526112  0.609832      1.000000\n",
      "\n",
      "Engagement metrics by source:\n",
      "             likes    shares  comments_len\n",
      "source                                    \n",
      "TWITTER  38.869377  5.523356      1.364187\n"
     ]
    }
   ],
   "source": [
    "df[\"comments_len\"] = df[\"comments\"].apply(len)\n",
    "\n",
    "correlations = df[[\"followers\", \"likes\", \"shares\", \"comments_len\"]].corr()\n",
    "print(\"Correlations:\")\n",
    "print(correlations)\n",
    "\n",
    "\n",
    "\n",
    "source_eng = df.groupby(\"source\")[[\"likes\", \"shares\", \"comments_len\"]].mean()\n",
    "\n",
    "print(\"\\nEngagement metrics by source:\")\n",
    "print(source_eng)"
   ]
  },
  {
   "cell_type": "markdown",
   "id": "10113b8d-dfd4-47e7-8345-650fd4fbeb97",
   "metadata": {},
   "source": [
    "Total engagement like + shares + comments correlation between followers"
   ]
  },
  {
   "cell_type": "code",
   "execution_count": 248,
   "id": "948f2dc4-09ae-440e-a538-7d133affafee",
   "metadata": {},
   "outputs": [
    {
     "name": "stdout",
     "output_type": "stream",
     "text": [
      "Correlation between number of followers and total engagement: 0.08\n"
     ]
    }
   ],
   "source": [
    "df[\"total\"] = df[\"likes\"] + df[\"shares\"] + df[\"comments\"].apply(len)\n",
    "\n",
    "correlation = df[[\"followers\", \"total\"]].corr().iloc[0, 1]\n",
    "\n",
    "print(f\"Correlation between number of followers and total engagement: {correlation:.2f}\")"
   ]
  },
  {
   "cell_type": "markdown",
   "id": "585fa914-f676-4035-b3c8-ace833d8b0fd",
   "metadata": {},
   "source": [
    " Recommendations:\n",
    "1. Based on your findings, propose three actionable recommendations for Ola Cabs to\n",
    "   improve their customer experience and social media engagement."
   ]
  },
  {
   "cell_type": "markdown",
   "id": "f1635d56-cd24-4fcb-b541-42cb11f9d1fc",
   "metadata": {},
   "source": [
    "1. To Improve Customer Experience\n",
    "  a. Driver Training: Regularly train drivers on customer etiquette and conflict resolution.\n",
    "  b. Incentivize Good Behavior: Recognize and reward drivers with consistently positive feedback.\n",
    "  c. Stricter Screening: Perform thorough background checks and psychometric evaluations during driver onboarding.\n",
    "  d. Feedback System: Promptly act on customer feedback with transparent communication about resolution outcomes.\n",
    "\n",
    "2. To Improve Social Media Engagement\n",
    "  a. Engagement Campaigns: Launch campaigns encouraging customers to share their positive experiences with hashtags, offering rewards for the best           stories.\n",
    "  b. Feedback Integration: Use social media data to refine operations, addressing frequent complaints and building features customers desire.\n",
    "\n",
    "3. To Improve Booking and Ride Experience\n",
    "  a. Ensure Reliability: Reduce ride cancellations by implementing penalties for drivers who cancel without valid reasons and reward those with high         completion rates.\n",
    "  b. Real-Time Updates: Provide real-time tracking of rides and estimated arrival times with high accuracy."
   ]
  },
  {
   "cell_type": "markdown",
   "id": "55646266-7032-434f-a43d-27ebea864313",
   "metadata": {},
   "source": [
    "Converted the clean data to csv"
   ]
  },
  {
   "cell_type": "code",
   "execution_count": 250,
   "id": "d9638b98-4392-4762-908a-9c0204691bec",
   "metadata": {},
   "outputs": [
    {
     "name": "stdout",
     "output_type": "stream",
     "text": [
      "Cleaned data has been saved as 'cleaned_data.csv'.\n"
     ]
    }
   ],
   "source": [
    "csv_file_path = \"cleaned_data.csv\"  \n",
    "df.to_csv(csv_file_path, index=False)\n",
    "print(f\"Cleaned data has been saved as '{csv_file_path}'.\")"
   ]
  }
 ],
 "metadata": {
  "kernelspec": {
   "display_name": "Python [conda env:base] *",
   "language": "python",
   "name": "conda-base-py"
  },
  "language_info": {
   "codemirror_mode": {
    "name": "ipython",
    "version": 3
   },
   "file_extension": ".py",
   "mimetype": "text/x-python",
   "name": "python",
   "nbconvert_exporter": "python",
   "pygments_lexer": "ipython3",
   "version": "3.12.7"
  }
 },
 "nbformat": 4,
 "nbformat_minor": 5
}
